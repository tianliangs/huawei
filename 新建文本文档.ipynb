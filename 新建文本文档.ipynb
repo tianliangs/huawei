{
 "cells": [
  {
   "cell_type": "code",
   "execution_count": null,
   "metadata": {},
   "outputs": [],
   "source": [
    "import pandas as pd\n",
    "import matplotlib.pyplot as plt\n",
    "\n",
    "# 创建一个示例DataFrame\n",
    "data = {\n",
    "    '销售额': [234, 276, 298, 312, 330, 354, 377, 390, 408, 425]\n",
    "}\n",
    "df = pd.DataFrame(data)\n",
    "\n",
    "# 定义区间范围\n",
    "bins = range(int(df['销售额'].min()), int(df['销售额'].max()) + 10, 10)\n",
    "\n",
    "# 使用cut函数将数据分组到区间\n",
    "df['区间'] = pd.cut(df['销售额'], bins=bins, right=False)\n",
    "\n",
    "# 计算每个区间的数量\n",
    "interval_counts = df['区间'].value_counts().sort_index()\n",
    "\n",
    "# 绘制柱状图\n",
    "plt.figure(figsize=(10, 5))\n",
    "interval_counts.plot(kind='bar')\n",
    "plt.title('销售额分区间数量统计')\n",
    "plt.xlabel('销售额区间')\n",
    "plt.ylabel('数量')\n",
    "plt.grid(True)\n",
    "plt.show()\n"
   ]
  }
 ],
 "metadata": {
  "kernelspec": {
   "display_name": "Python 3",
   "language": "python",
   "name": "python3"
  },
  "language_info": {
   "name": "python",
   "version": "3.9.8"
  }
 },
 "nbformat": 4,
 "nbformat_minor": 2
}
