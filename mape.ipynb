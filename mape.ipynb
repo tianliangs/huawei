{
 "cells": [
  {
   "cell_type": "code",
   "execution_count": null,
   "metadata": {},
   "outputs": [],
   "source": [
    "simulation_count_normalized = (charge_value_compare['simulation_count'] - charge_value_compare['simulation_count'].min()) / (charge_value_compare['simulation_count'].max() - charge_value_compare['simulation_count'].min())\n",
    "real_count_normalized = (charge_value_compare['real_count'] - charge_value_compare['real_count'].min()) / (charge_value_compare['real_count'].max() - charge_value_compare['real_count'].min())\n",
    "\n",
    "simulation_count_normalized = simulation_count_normalized.apply(lambda x: 1 if x < 0.1 else x)\n",
    "real_count_normalized = real_count_normalized.apply(lambda x: 1 if x < 0.1 else x)\n",
    "\n",
    "SpatialMAPE = mape(simulation_count_normalized, real_count_normalized)"
   ]
  }
 ],
 "metadata": {
  "language_info": {
   "name": "python"
  }
 },
 "nbformat": 4,
 "nbformat_minor": 2
}
