{
 "cells": [
  {
   "cell_type": "code",
   "execution_count": null,
   "metadata": {},
   "outputs": [],
   "source": [
    "import pandas as pd\n",
    "import numpy as np\n",
    "import statsmodels.api as sm\n",
    "\n",
    "# 对数据进行对数转换\n",
    "mr_edge_orders['log_real'] = np.log(mr_edge_orders['real_num1'])\n",
    "mr_edge_orders['log_MR'] = np.log(mr_edge_orders['MR_count_median'])\n",
    "\n",
    "# 使用线性回归模型\n",
    "X = sm.add_constant(mr_edge_orders['log_real'])  # 添加常数项\n",
    "model = sm.OLS(mr_edge_orders['log_MR'], X).fit()\n",
    "\n",
    "# 计算残差\n",
    "df['residuals'] = model.resid\n",
    "\n",
    "# 设置残差的阈值，例如选择绝对残差小于0.1的数据点\n",
    "filtered_df = df[np.abs(df['residuals']) < 0.1]\n",
    "\n",
    "# 打印筛选后的数据\n",
    "print(filtered_df)\n"
   ]
  },
  {
   "cell_type": "code",
   "execution_count": null,
   "metadata": {},
   "outputs": [],
   "source": [
    "import pandas as pd\n",
    "import numpy as np\n",
    "\n",
    "# 设置带宽的一半，例如以0.2作为阈值\n",
    "band_half_width = 0.2\n",
    "\n",
    "# 计算差的绝对值\n",
    "df['difference'] = np.abs(df['log_col1'] - df['log_col2'])\n",
    "\n",
    "# 筛选出在带内的点\n",
    "filtered_df = df[df['difference'] <= band_half_width]\n",
    "\n",
    "# 打印筛选后的数据\n",
    "print(filtered_df)\n"
   ]
  }
 ],
 "metadata": {
  "language_info": {
   "name": "python"
  }
 },
 "nbformat": 4,
 "nbformat_minor": 2
}
