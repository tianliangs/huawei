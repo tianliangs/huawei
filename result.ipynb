{
 "cells": [
  {
   "cell_type": "code",
   "execution_count": null,
   "metadata": {},
   "outputs": [],
   "source": [
    "import matplotlib.pyplot as plt\n",
    "\n",
    "# 将参数估计添加到 GeoDataFrame\n",
    "gdf['params_variable1'] = gwr_results.params[:, 1]  # 假设自变量1的参数在第二列\n",
    "\n",
    "# 绘制参数估计\n",
    "fig, ax = plt.subplots(figsize=(10, 10))\n",
    "gdf.plot(column='params_variable1', ax=ax, legend=True,\n",
    "         legend_kwds={'label': \"Parameter Estimate for Variable 1\"})\n",
    "plt.title('Geographic Distribution of Parameter Estimates for Variable 1')\n",
    "plt.show()\n"
   ]
  },
  {
   "cell_type": "code",
   "execution_count": null,
   "metadata": {},
   "outputs": [],
   "source": [
    "gdf['local_R2'] = gwr_results.localR2\n",
    "\n",
    "fig, ax = plt.subplots(figsize=(10, 10))\n",
    "gdf.plot(column='local_R2', ax=ax, legend=True,\n",
    "         legend_kwds={'label': \"Local R-squared\"})\n",
    "plt.title('Geographic Distribution of Local R-squared')\n",
    "plt.show()\n"
   ]
  },
  {
   "cell_type": "code",
   "execution_count": null,
   "metadata": {},
   "outputs": [],
   "source": [
    "gdf['residuals'] = gwr_results.resid\n",
    "\n",
    "fig, ax = plt.subplots(figsize=(10, 10))\n",
    "gdf.plot(column='residuals', ax=ax, legend=True,\n",
    "         legend_kwds={'label': \"Residuals\"})\n",
    "plt.title('Geographic Distribution of Residuals')\n",
    "plt.show()\n"
   ]
  }
 ],
 "metadata": {
  "language_info": {
   "name": "python"
  }
 },
 "nbformat": 4,
 "nbformat_minor": 2
}
